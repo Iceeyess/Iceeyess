{
  "nbformat": 4,
  "nbformat_minor": 0,
  "metadata": {
    "colab": {
      "provenance": [],
      "collapsed_sections": [],
      "toc_visible": true,
      "authorship_tag": "ABX9TyMda6q83K0WeizeLsJ0qCGT",
      "include_colab_link": true
    },
    "kernelspec": {
      "name": "python3",
      "display_name": "Python 3"
    },
    "language_info": {
      "name": "python"
    }
  },
  "cells": [
    {
      "cell_type": "markdown",
      "metadata": {
        "id": "view-in-github",
        "colab_type": "text"
      },
      "source": [
        "<a href=\"https://colab.research.google.com/github/Iceeyess/Iceeyess/blob/main/%D0%90%D0%BD%D0%B3%D0%BB%D0%B8%D0%B9%D1%81%D0%BA%D0%B8%D0%B9_%D1%8F%D0%B7%D1%8B%D0%BA.ipynb\" target=\"_parent\"><img src=\"https://colab.research.google.com/assets/colab-badge.svg\" alt=\"Open In Colab\"/></a>"
      ]
    },
    {
      "cell_type": "code",
      "execution_count": null,
      "metadata": {
        "id": "LEOJ1dgURAHU"
      },
      "outputs": [],
      "source": []
    },
    {
      "cell_type": "code",
      "source": [
        "counter = 0 # счетчик для подсчета баллов.\n",
        "correct_answers = 0 # счетчик для подсчета корректных ответов.\n",
        "question_count = 0 # счетчик кол-ва вопросов\n",
        "print(f'''Привет!Предлагаю проверить свои знания английского! \n",
        "Расскажи, как тебя зовут!''')\n",
        "user_name = input()\n",
        "print(f\"Привет, {user_name} , начинаем тренировку!\\nLet's begin\")\n",
        "\n",
        "# первый вопрос:\n",
        "\n",
        "print(f'My name ___ Vova')\n",
        "answer = input()\n",
        "answer = answer.lower() # даже если ввели с верхним регистром, переводит в нижний и далее сравнивает с True value\n",
        "question_count += 1 # счетчик кол-ва вопросов\n",
        "if answer == 'is':\n",
        "    print('''Ответ верный!\\nВы получаете 10 баллов!''')\n",
        "    counter += 10 # счетчик для баллов.\n",
        "    correct_answers += 1 # счетчик для подсчета корректных ответов.\n",
        "else:\n",
        "    print('Неправильно.\\nПравильный ответ: is')\n",
        "\n",
        "# второй вопрос:\n",
        "\n",
        "print(f'I ___ a coder')\n",
        "answer = input()\n",
        "answer = answer.lower() # даже если ввели с верхним регистром, переводит в нижний и далее сравнивает с True value\n",
        "question_count += 1 # счетчик кол-ва вопросов\n",
        "if answer == 'am':\n",
        "    print('''Ответ верный!\\nВы получаете 10 баллов!''')\n",
        "    counter += 10 # счетчик для баллов.\n",
        "    correct_answers += 1  # счетчик для подсчета корректных ответов.\n",
        "else:\n",
        "    print('Неправильно.\\nПравильный ответ: am')\n",
        "\n",
        "# третий вопрос:\n",
        "\n",
        "print(f'I live ___ Moscow')\n",
        "answer = input()\n",
        "answer = answer.lower() # даже если ввели с верхним регистром, переводит в нижний и далее сравнивает с True value\n",
        "question_count += 1 # счетчик кол-ва вопросов\n",
        "if answer == 'in':\n",
        "    print('''Ответ верный!\\nВы получаете 10 баллов!''')\n",
        "    counter += 10 # счетчик для баллов.\n",
        "    correct_answers += 1  # счетчик для подсчета корректных ответов.\n",
        "else:\n",
        "    print('Неправильно.\\nПравильный ответ: in')\n",
        "\n",
        "percent_count = int(correct_answers / question_count * 100) # счетчик для подсчета % корректных ответов.\n",
        "\n",
        "print(f\"Вот и все, {user_name}!\\nВы ответили на {correct_answers} вопросов из 3 верно.\\nВы заработали {counter} баллов.\\nЭто {percent_count} процентов.\")\n"
      ],
      "metadata": {
        "colab": {
          "base_uri": "https://localhost:8080/"
        },
        "id": "Dc33mSASRC-9",
        "outputId": "d5570e3b-1e60-49ba-f2aa-96611c647dfb"
      },
      "execution_count": 1,
      "outputs": [
        {
          "output_type": "stream",
          "name": "stdout",
          "text": [
            "Привет!Предлагаю проверить свои знания английского! \n",
            "Расскажи, как тебя зовут!\n",
            "Дима\n",
            "Привет, Дима , начинаем тренировку!\n",
            "Let's begin\n",
            "My name ___ Vova\n",
            "IS\n",
            "Ответ верный!\n",
            "Вы получаете 10 баллов!\n",
            "I ___ a coder\n",
            "aM\n",
            "Ответ верный!\n",
            "Вы получаете 10 баллов!\n",
            "I live ___ Moscow\n",
            "in\n",
            "Ответ верный!\n",
            "Вы получаете 10 баллов!\n",
            "Вот и все, Дима!\n",
            "Вы ответили на 3 вопросов из 3 верно.\n",
            "Вы заработали 30 баллов.\n",
            "Это 100 процентов.\n"
          ]
        }
      ]
    }
  ]
}